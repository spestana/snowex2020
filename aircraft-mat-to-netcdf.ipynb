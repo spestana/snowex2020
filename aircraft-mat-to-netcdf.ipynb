{
 "cells": [
  {
   "cell_type": "code",
   "execution_count": null,
   "metadata": {},
   "outputs": [],
   "source": [
    "#!pip install mat73"
   ]
  },
  {
   "cell_type": "code",
   "execution_count": null,
   "metadata": {},
   "outputs": [],
   "source": [
    "import numpy as np\n",
    "from matplotlib import pyplot as plt\n",
    "import xarray as xr\n",
    "import rioxarray as rxr\n",
    "import scipy.io as sio\n",
    "import datetime\n",
    "import mat73"
   ]
  },
  {
   "cell_type": "markdown",
   "metadata": {},
   "source": [
    "---\n",
    "**Thermal infrared images**\n",
    "\n",
    "Filepath list of .mat files"
   ]
  },
  {
   "cell_type": "code",
   "execution_count": null,
   "metadata": {},
   "outputs": [],
   "source": [
    "ir_files = [r'C:\\Users\\steve\\OneDrive\\Documents\\School Stuff\\UW\\Mountain Hydrology Research Group\\IR_PLANE_PROCESSED-20200908T002540Z-001\\IR_PLANE_PROCESSED\\SNOWEX2020_IR_PLANE_2020Feb08_mosaicked.mat',\n",
    "            r'C:\\Users\\steve\\OneDrive\\Documents\\School Stuff\\UW\\Mountain Hydrology Research Group\\IR_PLANE_PROCESSED-20200908T002540Z-001\\IR_PLANE_PROCESSED\\SNOWEX2020_IR_PLANE_2020Feb10_mosaicked.mat',\n",
    "            r'C:\\Users\\steve\\OneDrive\\Documents\\School Stuff\\UW\\Mountain Hydrology Research Group\\IR_PLANE_PROCESSED-20200908T002540Z-001\\IR_PLANE_PROCESSED\\SNOWEX2020_IR_PLANE_2020Feb11_mosaicked.mat',\n",
    "            r'C:\\Users\\steve\\OneDrive\\Documents\\School Stuff\\UW\\Mountain Hydrology Research Group\\IR_PLANE_PROCESSED-20200908T002540Z-001\\IR_PLANE_PROCESSED\\SNOWEX2020_IR_PLANE_2020Feb12_mosaicked.mat'\n",
    "            ]"
   ]
  },
  {
   "cell_type": "markdown",
   "metadata": {},
   "source": [
    "Load a .mat file from the filepath list."
   ]
  },
  {
   "cell_type": "code",
   "execution_count": null,
   "metadata": {},
   "outputs": [],
   "source": [
    "aircraft_ir_data_mat = sio.loadmat(ir_files[0])  "
   ]
  },
  {
   "cell_type": "markdown",
   "metadata": {},
   "source": [
    "Display the contents of what we have loaded. This is a dictionary containing metadata and numpy arrays of the data variables."
   ]
  },
  {
   "cell_type": "code",
   "execution_count": null,
   "metadata": {},
   "outputs": [],
   "source": [
    "aircraft_ir_data_mat"
   ]
  },
  {
   "cell_type": "markdown",
   "metadata": {},
   "source": [
    "Create an xarray dataset with this data"
   ]
  },
  {
   "cell_type": "code",
   "execution_count": null,
   "metadata": {},
   "outputs": [],
   "source": [
    "# convert time in epoch to isoformat\n",
    "time = [datetime.datetime.utcfromtimestamp(this_time).isoformat() for this_time in aircraft_ir_data_mat['time'].squeeze()]\n",
    "\n",
    "\n",
    "# create dataset\n",
    "ds = xr.Dataset({\n",
    "    'STCtemp': xr.DataArray(\n",
    "                data   = aircraft_ir_data_mat['STCtemp'], # scaled IR temperature data\n",
    "                dims   = ['y', 'x', 'time'],\n",
    "                coords = {'x': aircraft_ir_data_mat['Eutm'].squeeze(), # easting coordinates (MGRS-UTM, m\n",
    "                          'y': aircraft_ir_data_mat['Nutm'].squeeze(), # northing grid coordinates (MGRS-UTM, \n",
    "                          'time': time}, # time in isoformat\n",
    "\n",
    "                attrs  = {\n",
    "                    '_FillValue'  : np.nan,\n",
    "                    'units'       : 'Celsius',\n",
    "                    'description' : 'land and snow surface brightness temperature - no emissivity correction',\n",
    "                    'timezone'    : 'time in UTC'\n",
    "                    }\n",
    "                ),\n",
    "    #'zDEM': xr.DataArray(\n",
    "    #            data   = aircraft_data_mat['zDEM'], # elevation (meters)\n",
    "    #            dims   = ['y', 'x'],\n",
    "    #            coords = {'x': aircraft_data_mat['Eutm'].squeeze(),\n",
    "    #                      'y': aircraft_data_mat['Nutm'].squeeze()},\n",
    "    #            attrs  = {\n",
    "    #                '_FillValue'  : np.nan,\n",
    "    #                'units'       : 'meters',\n",
    "    #                'description' : 'digital elevation map used for georectification',\n",
    "    #                'source'      : 'https://doi.org/10.5066/F7PR7TFT',\n",
    "    #                'horizontal datum' : 'WGS84',\n",
    "    #                'vertical datum' : 'EGM96',\n",
    "    #                'original resolution' : '30 m / 1 arc-second'\n",
    "    #                }\n",
    "    #        )\n",
    "},\n",
    "        attrs = {'description': 'Airborne thermal infrared imagery from University of Washington Applied Physics Lab Compact Airborne System for Imaging the Environment instrument. Imagery of Grand Mesa, Colorado from SnowEx 2020 field campaign.'}\n",
    "    )\n",
    "\n"
   ]
  },
  {
   "cell_type": "markdown",
   "metadata": {},
   "source": [
    "Specify our spatial dimensions and coordinate reference system"
   ]
  },
  {
   "cell_type": "code",
   "execution_count": null,
   "metadata": {},
   "outputs": [],
   "source": [
    "ds.rio.set_spatial_dims('y', 'x', inplace=True)\n",
    "ds.rio.write_crs(\"epsg:26913\", inplace=True) # UTM Zone 13N / NAD83\n",
    "ds = ds.transpose('time', 'y', 'x').rio.reproject(\"epsg:32612\")"
   ]
  },
  {
   "cell_type": "markdown",
   "metadata": {},
   "source": [
    "For each timestamp, save a separate netcdf of geotiff file."
   ]
  },
  {
   "cell_type": "code",
   "execution_count": null,
   "metadata": {},
   "outputs": [],
   "source": [
    "for t, _ in enumerate(time):\n",
    "    time_str = time[t].replace(':','').split('.')[0]\n",
    "    ds.isel(time=t).to_netcdf('SNOWEX2020_IR_PLANE_2020Feb08_mosaicked_{}.nc'.format(time_str))\n",
    "    ds.isel(time=t).rio.to_raster('SNOWEX2020_IR_PLANE_2020Feb08_mosaicked_{}.tif'.format(time_str))"
   ]
  },
  {
   "cell_type": "markdown",
   "metadata": {},
   "source": [
    "---\n",
    "\n",
    "**Visible images**"
   ]
  },
  {
   "cell_type": "markdown",
   "metadata": {},
   "source": [
    "Filepath list of .mat files"
   ]
  },
  {
   "cell_type": "code",
   "execution_count": null,
   "metadata": {},
   "outputs": [],
   "source": [
    "vis_files = [r'C:\\Users\\steve\\OneDrive\\Documents\\School Stuff\\UW\\Mountain Hydrology Research Group\\IR_PLANE_PROCESSED-20200908T002540Z-001\\SNOWEX2020_EO_PLANE_2020Feb08_mosaicked.mat']"
   ]
  },
  {
   "cell_type": "markdown",
   "metadata": {},
   "source": [
    "Load a .mat file from the filepath list. (need to use the [mat73](https://github.com/skjerns/mat7.3) library for this version of matlab file)"
   ]
  },
  {
   "cell_type": "code",
   "execution_count": null,
   "metadata": {},
   "outputs": [],
   "source": [
    "aircraft_vis_data_mat = mat73.loadmat(vis_files[0])"
   ]
  },
  {
   "cell_type": "markdown",
   "metadata": {},
   "source": [
    "Display the contents of what we have loaded. This is a dictionary containing metadata and numpy arrays of the data variables."
   ]
  },
  {
   "cell_type": "code",
   "execution_count": null,
   "metadata": {},
   "outputs": [],
   "source": [
    "aircraft_vis_data_mat"
   ]
  },
  {
   "cell_type": "markdown",
   "metadata": {},
   "source": [
    "Create an xarray dataset with this data"
   ]
  },
  {
   "cell_type": "code",
   "execution_count": null,
   "metadata": {},
   "outputs": [],
   "source": [
    "# convert time in epoch to isoformat\n",
    "time = [datetime.datetime.utcfromtimestamp(this_time).isoformat() for this_time in aircraft_vis_data_mat['time'].squeeze()]\n",
    "\n",
    "# scale image color data to between 0 and 1\n",
    "#original_max = np.nanmax(aircraft_vis_data_mat['SRGB'])\n",
    "#original_min = np.nanmin(aircraft_vis_data_mat['SRGB'])\n",
    "#scaled_RGB_data = (aircraft_vis_data_mat['SRGB'] - original_min) / (original_max - original_min) * 255\n",
    "#scaled_RGB_data = scaled_RGB_data.astype('int')\n",
    "\n",
    "# create dataset\n",
    "ds = xr.Dataset({\n",
    "    'SRGB': xr.DataArray(\n",
    "                data   = aircraft_vis_data_mat['SRGB'], # Red, Green, Blue image bands\n",
    "                dims   = ['y', 'x', 'band', 'time'],\n",
    "                coords = {'x': aircraft_vis_data_mat['Xs'][0,:], # easting coordinates (MGRS-UTM, m)\n",
    "                          'y': aircraft_vis_data_mat['Ys'][:,0], # northing grid coordinates (MGRS-UTM, m)\n",
    "                          'band': ['r', 'g', 'b'], # labels for red, green, blue image bands\n",
    "                          'time': time}, # time in isoformat\n",
    "\n",
    "                attrs  = {\n",
    "                    '_FillValue'  : np.nan,\n",
    "                    'units'       : 'digital numbers',\n",
    "                    'description' : 'visible imagery',\n",
    "                    'timezone'    : 'time in UTC'\n",
    "                    }\n",
    "                ),\n",
    "    #'zDEM': xr.DataArray(\n",
    "    #            data   = aircraft_data_mat['zDEM'], # elevation (meters)\n",
    "    #            dims   = ['y', 'x'],\n",
    "    #            coords = {'x': aircraft_data_mat['Eutm'].squeeze(),\n",
    "    #                      'y': aircraft_data_mat['Nutm'].squeeze()},\n",
    "    #            attrs  = {\n",
    "    #                '_FillValue'  : np.nan,\n",
    "    #                'units'       : 'meters',\n",
    "    #                'description' : 'digital elevation map used for georectification',\n",
    "    #                'source'      : 'https://doi.org/10.5066/F7PR7TFT',\n",
    "    #                'horizontal datum' : 'WGS84',\n",
    "    #                'vertical datum' : 'EGM96',\n",
    "    #                'original resolution' : '30 m / 1 arc-second'\n",
    "    #                }\n",
    "    #        )\n",
    "},\n",
    "        attrs = {'description': 'Airborne visible imagery from University of Washington Applied Physics Lab Compact Airborne System for Imaging the Environment instrument. Imagery of Grand Mesa, Colorado from SnowEx 2020 field campaign.'}\n",
    "    )\n",
    "\n"
   ]
  },
  {
   "cell_type": "markdown",
   "metadata": {},
   "source": [
    "Specify our spatial dimensions and coordinate reference system"
   ]
  },
  {
   "cell_type": "code",
   "execution_count": null,
   "metadata": {},
   "outputs": [],
   "source": [
    "ds.rio.set_spatial_dims('y', 'x', inplace=True)\n",
    "ds.rio.write_crs(\"epsg:26913\", inplace=True) # UTM Zone 13N / NAD83"
   ]
  },
  {
   "cell_type": "markdown",
   "metadata": {},
   "source": [
    "For each timestamp, save a separate netcdf or geotiff file."
   ]
  },
  {
   "cell_type": "code",
   "execution_count": null,
   "metadata": {},
   "outputs": [],
   "source": [
    "for t, _ in enumerate(time):\n",
    "    time_str = time[t].replace(':','').split('.')[0]\n",
    "    ds.isel(time=t,band=2).transpose('y', 'x').rio.reproject(\"epsg:32612\").to_netcdf('SNOWEX2020_EO_PLANE_2020Feb08_mosaicked_{}.nc'.format(time_str))\n",
    "    _ds = ds.isel(time=t,band=2).SRGB.transpose('y', 'x').rio.reproject(\"epsg:32612\")\n",
    "    _ds.rio.to_raster('SNOWEX2020_EO_PLANE_2020Feb08_mosaicked_{}.tif'.format(time_str))"
   ]
  },
  {
   "cell_type": "code",
   "execution_count": null,
   "metadata": {},
   "outputs": [],
   "source": []
  }
 ],
 "metadata": {
  "kernelspec": {
   "display_name": "Python 3",
   "language": "python",
   "name": "python3"
  },
  "language_info": {
   "codemirror_mode": {
    "name": "ipython",
    "version": 3
   },
   "file_extension": ".py",
   "mimetype": "text/x-python",
   "name": "python",
   "nbconvert_exporter": "python",
   "pygments_lexer": "ipython3",
   "version": "3.6.7"
  }
 },
 "nbformat": 4,
 "nbformat_minor": 2
}
