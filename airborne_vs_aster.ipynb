{
 "cells": [
  {
   "cell_type": "code",
   "execution_count": 1,
   "id": "cac20761",
   "metadata": {},
   "outputs": [],
   "source": [
    "import xarray as xr\n",
    "import rioxarray\n",
    "\n",
    "import numpy as np\n",
    "import matplotlib.pyplot as plt\n",
    "from matplotlib.ticker import FormatStrFormatter"
   ]
  },
  {
   "cell_type": "markdown",
   "id": "c61bd4eb",
   "metadata": {},
   "source": [
    "---"
   ]
  },
  {
   "cell_type": "code",
   "execution_count": 2,
   "id": "587107c7",
   "metadata": {},
   "outputs": [],
   "source": [
    "#ds = xr.open_dataset(r'C:/Users/steve/OneDrive/Documents/School Stuff/UW/Mountain Hydrology Research Group/IR_PLANE_PROCESSED/tif/SNOWEX2020_IR_PLANE_2020Feb11_mosaicked_2020-02-11T172551.tif')"
   ]
  },
  {
   "cell_type": "code",
   "execution_count": 3,
   "id": "1a4219cd",
   "metadata": {},
   "outputs": [],
   "source": [
    "#ds.band_data.isel(band=1).plot()"
   ]
  },
  {
   "cell_type": "markdown",
   "id": "563ec0d5",
   "metadata": {},
   "source": [
    "---"
   ]
  },
  {
   "cell_type": "code",
   "execution_count": 4,
   "id": "f7c7dd60",
   "metadata": {},
   "outputs": [],
   "source": [
    "filepath = r'C:\\Users\\steve\\OneDrive\\Documents\\School Stuff\\UW\\Mountain Hydrology Research Group\\MountainGOES\\Mountain GOES Paper\\Paper 2 - satellite vs ground\\Paper 2a - snowex data\\data\\\\'"
   ]
  },
  {
   "cell_type": "code",
   "execution_count": 5,
   "id": "ae350655",
   "metadata": {},
   "outputs": [],
   "source": [
    "ds_180737 = xr.open_dataset(filepath + 'airborne180737_aster_tb_K_diff.tif', engine=\"rasterio\")\n",
    "ds_181915 = xr.open_dataset(filepath + 'airborne181915_aster_tb_K_diff.tif', engine=\"rasterio\")"
   ]
  },
  {
   "cell_type": "code",
   "execution_count": null,
   "id": "413fb95e",
   "metadata": {},
   "outputs": [
    {
     "data": {
      "text/plain": [
       "Text(-9, 250000, 'mean diff = 0.8\\nstd diff = 2.25')"
      ]
     },
     "execution_count": 6,
     "metadata": {},
     "output_type": "execute_result"
    }
   ],
   "source": [
    "fig, [ax_img, ax_hist] = plt.subplots(nrows=1, ncols=2, figsize=(15,4), \n",
    "                                      tight_layout=True, \n",
    "                                      gridspec_kw={'width_ratios': [3,1]})\n",
    "\n",
    "\n",
    "ds_180737.band_data.plot(ax=ax_img, cmap='RdBu_r', vmin=-10, vmax=10)\n",
    "ax_img.set_ylim(4322000,4328000)\n",
    "ax_img.set_aspect(1) #ax_img.set_aspect('equal', 'box')\n",
    "ax_img.set_title('Airborne - ASTER IR Image\\n180737 UTC')\n",
    "ax_img.set_ylabel('Norhtings (m)')\n",
    "ax_img.set_xlabel('Eastings (m)')\n",
    "ax_img.yaxis.set_major_formatter(FormatStrFormatter('%.0f'))\n",
    "ax_img.xaxis.set_major_formatter(FormatStrFormatter('%.0f'))\n",
    "ax_img.tick_params('x', labelrotation=45)\n",
    "\n",
    "\n",
    "ds_180737.band_data.plot.hist(bins=100, ax=ax_hist);\n",
    "ax_hist.set_xlim(-10,10)\n",
    "ax_hist.set_ylim(0,300000)\n",
    "ax_hist.set_title('Airborne - ASTER IR Image\\n180737 UTC')\n",
    "ax_hist.set_xlabel('Temperature Difference $\\degree C$')\n",
    "ax_hist.set_ylabel('Numper of pixels')\n",
    "\n",
    "mean_diff = ds_180737.band_data.mean().values\n",
    "std_diff = ds_180737.band_data.std().values\n",
    "min_diff = ds_180737.band_data.min().values\n",
    "max_diff = ds_180737.band_data.max().values\n",
    "\n",
    "stats = f'mean diff = {str(np.round(mean_diff,2))}\\nstd diff = {str(np.round(std_diff,2))}'\n",
    "ax_hist.text(-9, 250000, stats)"
   ]
  },
  {
   "cell_type": "code",
   "execution_count": null,
   "id": "a8ded038",
   "metadata": {},
   "outputs": [],
   "source": [
    "plt.figure(figsize=(15,3))\n",
    "ds_180737.band_data.count(axis=1).plot()\n",
    "\n",
    "plt.figure(figsize=(15,3))\n",
    "ds_180737.band_data.mean(axis=1).plot()\n",
    "ds_180737.band_data.median(axis=1).plot()\n",
    "\n",
    "plt.figure(figsize=(15,3))\n",
    "ds_180737.band_data.count(axis=2).plot()\n",
    "\n",
    "plt.figure(figsize=(15,3))\n",
    "ds_180737.band_data.mean(axis=2).plot()\n",
    "ds_180737.band_data.median(axis=2).plot()\n",
    "ds_180737.band_data.mean(axis=2).where(ds_180737.band_data.count(axis=2) > 1000).plot(c='k', lw=3)\n",
    "plt.ylim(-3,3)"
   ]
  },
  {
   "cell_type": "code",
   "execution_count": null,
   "id": "4a43b6f7",
   "metadata": {},
   "outputs": [],
   "source": [
    "fig, [ax_img, ax_hist] = plt.subplots(nrows=1, ncols=2, figsize=(10,3), \n",
    "                                      tight_layout=True, \n",
    "                                      gridspec_kw={'width_ratios': [3,1]})\n",
    "\n",
    "\n",
    "ds_181915.band_data.plot(ax=ax_img, cmap='RdBu_r', vmin=-10, vmax=10)\n",
    "ax_img.set_ylim(4320000,4326000)\n",
    "ax_img.set_aspect(1)\n",
    "ax_img.set_title('Airborne - ASTER IR Image\\n181915 UTC')\n",
    "ax_img.set_ylabel('Norhtings (m)')\n",
    "ax_img.set_xlabel('Eastings (m)')\n",
    "\n",
    "\n",
    "ds_181915.band_data.plot.hist(bins=100, ax=ax_hist);\n",
    "ax_hist.set_xlim(-10,10)\n",
    "ax_hist.set_ylim(0,350000)\n",
    "ax_hist.set_title('Airborne - ASTER IR Image\\n181915 UTC')\n",
    "ax_hist.set_ylabel('Temperature Difference $\\degree C$')\n",
    "ax_hist.set_xlabel('Numper of pixels')\n",
    "\n",
    "mean_diff = ds_181915.band_data.mean().values\n",
    "std_diff = ds_181915.band_data.std().values\n",
    "min_diff = ds_181915.band_data.min().values\n",
    "max_diff = ds_181915.band_data.max().values\n",
    "\n",
    "\n",
    "stats = f'mean diff = {str(np.round(mean_diff,2))}\\nstd diff = {str(np.round(std_diff,2))}'\n",
    "ax_hist.text(-9, 300000, stats)"
   ]
  },
  {
   "cell_type": "code",
   "execution_count": null,
   "id": "09a2dc31",
   "metadata": {},
   "outputs": [],
   "source": [
    "plt.figure(figsize=(15,3))\n",
    "ds_181915.band_data.count(axis=1).plot()\n",
    "\n",
    "\n",
    "plt.figure(figsize=(15,3))\n",
    "ds_181915.band_data.mean(axis=1).plot()\n",
    "ds_181915.band_data.median(axis=1).plot()\n",
    "\n",
    "plt.figure(figsize=(15,3))\n",
    "ds_181915.band_data.count(axis=2).plot()\n",
    "\n",
    "plt.figure(figsize=(15,3))\n",
    "ds_181915.band_data.mean(axis=2).plot()\n",
    "ds_181915.band_data.median(axis=2).plot()\n",
    "ds_181915.band_data.mean(axis=2).where(ds_181915.band_data.count(axis=2) > 1000).plot(c='k', lw=3)\n",
    "plt.ylim(-3,3)\n"
   ]
  },
  {
   "cell_type": "code",
   "execution_count": null,
   "id": "a2cee801",
   "metadata": {},
   "outputs": [],
   "source": [
    "plt.figure(figsize=(15,3))\n",
    "ds_180737.band_data.mean(axis=2).where(ds_180737.band_data.count(axis=2) > 1000).plot(c='r', lw=3)\n",
    "ds_181915.band_data.mean(axis=2).where(ds_181915.band_data.count(axis=2) > 1000).plot(c='k', lw=3)\n",
    "plt.ylim(-3,3)\n"
   ]
  },
  {
   "cell_type": "code",
   "execution_count": null,
   "id": "8f8b9123",
   "metadata": {},
   "outputs": [],
   "source": [
    "plt.figure()\n",
    "ds_180737.band_data.plot()\n",
    "ds_181915.band_data.plot()"
   ]
  },
  {
   "cell_type": "markdown",
   "id": "d0c6a652",
   "metadata": {},
   "source": [
    "See if differences in the two mosaics correlate with eachother at all... doesn't look like it (differences are a function more of the airborne IR imager biases across its cameras than actual land surface composition)"
   ]
  },
  {
   "cell_type": "code",
   "execution_count": null,
   "id": "974b5980",
   "metadata": {},
   "outputs": [],
   "source": [
    "plt.figure(figsize=(5,5))\n",
    "#plt.plot(  '.k', alpha=0.01)\n",
    "x = ds_180737.band_data.values.ravel()\n",
    "y = ds_181915.band_data.values.ravel()\n",
    "bad_indices = np.isnan(x) | np.isnan(y)\n",
    "good_indices = ~bad_indices\n",
    "good_x = x[good_indices]\n",
    "good_y = y[good_indices]\n",
    "\n",
    "plt.hist2d(good_x, good_y, bins=1000, cmap='Greys_r');\n",
    "plt.colorbar()\n",
    "plt.xlim(-5,5)\n",
    "plt.ylim(-5,5)"
   ]
  },
  {
   "cell_type": "markdown",
   "id": "7e923aa5",
   "metadata": {},
   "source": [
    "---\n",
    "\n",
    "Aggregate airborne IR up to ASTER resolution and look at differences"
   ]
  },
  {
   "cell_type": "code",
   "execution_count": null,
   "id": "45484c8a",
   "metadata": {},
   "outputs": [],
   "source": [
    "asterIR = xr.open_dataset(r\"C:/Users/steve/OneDrive/Documents/School Stuff/UW/Mountain Hydrology Research Group/ASTER/ASTER_L1T_2020_GrandMesa_SnowEx/output/AST_L1T_00302082020180748_20200209065849_17218_ImageData14_tb.tif\")"
   ]
  },
  {
   "cell_type": "code",
   "execution_count": null,
   "id": "ccfbc348",
   "metadata": {},
   "outputs": [],
   "source": [
    "ds_180737_airborneIR = xr.open_dataset(r\"C:\\Users\\steve\\OneDrive\\Documents\\School Stuff\\UW\\Mountain Hydrology Research Group\\IR_PLANE_PROCESSED\\tif\\SNOWEX2020_IR_PLANE_2020Feb08_mosaicked_2020-02-08T180737.tif\")\n",
    "ds_181915_airborneIR = xr.open_dataset(r\"C:\\Users\\steve\\OneDrive\\Documents\\School Stuff\\UW\\Mountain Hydrology Research Group\\IR_PLANE_PROCESSED\\tif\\SNOWEX2020_IR_PLANE_2020Feb08_mosaicked_2020-02-08T181915.tif\")"
   ]
  },
  {
   "cell_type": "code",
   "execution_count": null,
   "id": "9f333c41",
   "metadata": {},
   "outputs": [],
   "source": [
    "ds_180737_airborneIR_reprojected = ds_180737_airborneIR.rio.reproject_match(asterIR, resampling=5)\n",
    "ds_181915_airborneIR_reprojected = ds_181915_airborneIR.rio.reproject_match(asterIR, resampling=5)"
   ]
  },
  {
   "cell_type": "markdown",
   "id": "6cc74c37",
   "metadata": {},
   "source": [
    "Compute differences with reprojected data"
   ]
  },
  {
   "cell_type": "code",
   "execution_count": null,
   "id": "29234dbd",
   "metadata": {},
   "outputs": [],
   "source": [
    "ds_180737_reprojected = ds_180737_airborneIR_reprojected - (asterIR-273.15)\n",
    "ds_181915_reprojected = ds_181915_airborneIR_reprojected - (asterIR-273.15)"
   ]
  },
  {
   "cell_type": "markdown",
   "id": "38cacc15",
   "metadata": {},
   "source": [
    "Save these to a new file"
   ]
  },
  {
   "cell_type": "code",
   "execution_count": null,
   "id": "f19d66ad",
   "metadata": {},
   "outputs": [],
   "source": [
    "ds_180737_reprojected.squeeze().rio.to_raster('ASTER_difference_SNOWEX2020_IR_PLANE_2020Feb08_mosaicked_2020-02-08T180737.tif')"
   ]
  },
  {
   "cell_type": "code",
   "execution_count": null,
   "id": "e6bad1dc",
   "metadata": {},
   "outputs": [],
   "source": [
    "ds_181915_reprojected.squeeze().rio.to_raster('ASTER_difference_SNOWEX2020_IR_PLANE_2020Feb08_mosaicked_2020-02-08T181915.tif')"
   ]
  },
  {
   "cell_type": "code",
   "execution_count": null,
   "id": "3760b0f6",
   "metadata": {},
   "outputs": [],
   "source": [
    "fig, [ax_img, ax_hist] = plt.subplots(nrows=1, ncols=2, figsize=(15,4), \n",
    "                                      tight_layout=True, \n",
    "                                      gridspec_kw={'width_ratios': [3,1]})\n",
    "\n",
    "\n",
    "ds_180737_reprojected.band_data.plot(ax=ax_img, cmap='RdBu_r', vmin=-7, vmax=7)\n",
    "ax_img.set_ylim(4322000,4328000)\n",
    "ax_img.set_xlim(ds_180737.x.min().values, ds_180737.x.max().values)\n",
    "ax_img.set_aspect(1)\n",
    "ax_img.set_title('Airborne - ASTER IR Image\\n180737 UTC')\n",
    "ax_img.set_ylabel('Norhtings (m)')\n",
    "ax_img.set_xlabel('Eastings (m)')\n",
    "ax_img.yaxis.set_major_formatter(FormatStrFormatter('%.0f'))\n",
    "ax_img.xaxis.set_major_formatter(FormatStrFormatter('%.0f'))\n",
    "ax_img.tick_params('x', labelrotation=45)\n",
    "\n",
    "\n",
    "ds_180737_reprojected.band_data.plot.hist(bins=50, ax=ax_hist, color='k');\n",
    "ax_hist.axvline(0,color='tab:blue',linestyle='--')\n",
    "ax_hist.set_xlim(-7,7)\n",
    "#ax_hist.set_ylim(0,500)\n",
    "ax_hist.set_title('Airborne - ASTER IR Image\\n180737 UTC', fontsize=15)\n",
    "ax_hist.set_xlabel('Temperature Difference $\\degree C$', fontsize=15)\n",
    "ax_hist.set_ylabel('Number of 90 m pixels', fontsize=15)\n",
    "\n",
    "mean_diff = ds_180737_reprojected.band_data.mean().values\n",
    "std_diff = ds_180737_reprojected.band_data.std().values\n",
    "min_diff = ds_180737_reprojected.band_data.min().values\n",
    "max_diff = ds_180737_reprojected.band_data.max().values\n",
    "\n",
    "stats = f'$\\mu$ = {str(np.round(mean_diff,2))}\\n$\\sigma$ = {str(np.round(std_diff,2))}'\n",
    "ax_hist.text(-6, 350, stats, fontsize=15)\n",
    "\n",
    "plt.figure(figsize=(15,3))\n",
    "ds_180737_reprojected.band_data.count(axis=2).plot()\n",
    "\n",
    "plt.figure(figsize=(15,3))\n",
    "ds_180737_reprojected.band_data.mean(axis=2).plot()\n",
    "ds_180737_reprojected.band_data.median(axis=2).plot()\n",
    "ds_180737_reprojected.band_data.mean(axis=2).where(ds_180737_reprojected.band_data.count(axis=2) > 50).plot(c='k', lw=3)\n",
    "plt.ylim(-3,3)"
   ]
  },
  {
   "cell_type": "code",
   "execution_count": null,
   "id": "e5974b19",
   "metadata": {},
   "outputs": [],
   "source": [
    "fig, [ax_img, ax_hist] = plt.subplots(nrows=1, ncols=2, figsize=(15,4), \n",
    "                                      tight_layout=True, \n",
    "                                      gridspec_kw={'width_ratios': [3,1]})\n",
    "\n",
    "\n",
    "ds_181915_reprojected.band_data.plot(ax=ax_img, cmap='RdBu_r', vmin=-7, vmax=7)\n",
    "ax_img.set_ylim(4320000,4326000)\n",
    "ax_img.set_xlim(ds_181915.x.min().values, ds_181915.x.max().values)\n",
    "ax_img.set_aspect(1)\n",
    "ax_img.set_title('Airborne - ASTER IR Image\\n181915 UTC')\n",
    "ax_img.set_ylabel('Norhtings (m)')\n",
    "ax_img.set_xlabel('Eastings (m)')\n",
    "ax_img.yaxis.set_major_formatter(FormatStrFormatter('%.0f'))\n",
    "ax_img.xaxis.set_major_formatter(FormatStrFormatter('%.0f'))\n",
    "ax_img.tick_params('x', labelrotation=45)\n",
    "\n",
    "\n",
    "ds_181915_reprojected.band_data.plot.hist(bins=50, ax=ax_hist, color='k');\n",
    "ax_hist.axvline(0,color='tab:blue',linestyle='--')\n",
    "ax_hist.set_xlim(-7,7)\n",
    "#ax_hist.set_ylim(0,800)\n",
    "ax_hist.set_title('Airborne - ASTER IR Image\\n181915 UTC', fontsize=15)\n",
    "ax_hist.set_xlabel('Temperature Difference $\\degree C$', fontsize=15)\n",
    "ax_hist.set_ylabel('Number of 90 m pixels', fontsize=15)\n",
    "\n",
    "mean_diff = ds_181915_reprojected.band_data.mean().values\n",
    "std_diff = ds_181915_reprojected.band_data.std().values\n",
    "min_diff = ds_181915_reprojected.band_data.min().values\n",
    "max_diff = ds_181915_reprojected.band_data.max().values\n",
    "\n",
    "\n",
    "stats = f'$\\mu$ = {str(np.round(mean_diff,2))}\\n$\\sigma$ = {str(np.round(std_diff,2))}'\n",
    "ax_hist.text(-6, 650, stats, fontsize=15)\n",
    "\n",
    "\n",
    "plt.figure(figsize=(15,3))\n",
    "ds_181915_reprojected.band_data.count(axis=2).plot()\n",
    "\n",
    "plt.figure(figsize=(15,3))\n",
    "ds_181915_reprojected.band_data.mean(axis=2).plot()\n",
    "ds_181915_reprojected.band_data.median(axis=2).plot()\n",
    "ds_181915_reprojected.band_data.mean(axis=2).where(ds_181915_reprojected.band_data.count(axis=2) > 50).plot(c='k', lw=3)\n",
    "plt.ylim(-3,3)"
   ]
  },
  {
   "cell_type": "code",
   "execution_count": null,
   "id": "569f97c1",
   "metadata": {},
   "outputs": [],
   "source": [
    "plt.figure(figsize=(5,5))\n",
    "#plt.plot(  '.k', alpha=0.01)\n",
    "x = ds_180737_airborneIR_reprojected.band_data[0].values.ravel()\n",
    "y = ds_181915_airborneIR_reprojected.band_data[0].values.ravel()\n",
    "\n",
    "plt.scatter(x,y, marker='.', color='k', alpha=0.1)\n",
    "\n",
    "\n",
    "plt.figure(figsize=(10,5))\n",
    "plt.plot(x-y, marker='.', linestyle='none', color='k', alpha=0.25)\n",
    "\n"
   ]
  },
  {
   "cell_type": "code",
   "execution_count": null,
   "id": "cf27a4c4",
   "metadata": {},
   "outputs": [],
   "source": [
    "plt.figure(figsize=(5,5))\n",
    "#plt.plot(  '.k', alpha=0.01)\n",
    "x = ds_180737_reprojected.band_data.values.ravel()\n",
    "y = ds_181915_reprojected.band_data.values.ravel()\n",
    "\n",
    "plt.scatter(x,y, marker='.', color='k', alpha=0.1)\n",
    "\n",
    "\n",
    "plt.figure(figsize=(5,5))\n",
    "#plt.plot(  '.k', alpha=0.01)\n",
    "x = ds_180737_reprojected.band_data.values.ravel()\n",
    "y = ds_181915_reprojected.band_data.values.ravel()\n",
    "bad_indices = np.isnan(x) | np.isnan(y)\n",
    "good_indices = ~bad_indices\n",
    "good_x = x[good_indices]\n",
    "good_y = y[good_indices]\n",
    "\n",
    "plt.hist2d(good_x, good_y, bins=100, cmap='Greys_r');\n",
    "plt.colorbar()\n",
    "plt.xlim(-5,5)\n",
    "plt.ylim(-5,5)"
   ]
  },
  {
   "cell_type": "code",
   "execution_count": null,
   "id": "13c2c309",
   "metadata": {},
   "outputs": [],
   "source": []
  }
 ],
 "metadata": {
  "kernelspec": {
   "display_name": "feb8env",
   "language": "python",
   "name": "feb8env"
  },
  "language_info": {
   "codemirror_mode": {
    "name": "ipython",
    "version": 3
   },
   "file_extension": ".py",
   "mimetype": "text/x-python",
   "name": "python",
   "nbconvert_exporter": "python",
   "pygments_lexer": "ipython3",
   "version": "3.9.12"
  }
 },
 "nbformat": 4,
 "nbformat_minor": 5
}
