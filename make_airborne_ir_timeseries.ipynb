{
 "cells": [
  {
   "cell_type": "code",
   "execution_count": 1,
   "metadata": {},
   "outputs": [],
   "source": [
    "import numpy as np\n",
    "from matplotlib import pyplot as plt\n",
    "import xarray as xr\n",
    "import rioxarray\n",
    "import scipy.io as sio\n",
    "import datetime\n",
    "import pandas as pd\n",
    "from scipy.signal import argrelextrema, argrelmax, argrelmin\n",
    "from shapely.geometry import Polygon\n",
    "import geojson\n",
    "import mat73\n",
    "import ir_utils\n",
    "import aster_utils\n",
    "import glob\n",
    "import geopandas as gpd\n",
    "\n",
    "import warnings\n",
    "warnings.filterwarnings('ignore')\n",
    "warnings.simplefilter('ignore')"
   ]
  },
  {
   "cell_type": "code",
   "execution_count": 2,
   "metadata": {},
   "outputs": [],
   "source": [
    "def get_hist_peaks(data,n_peaks=2):\n",
    "    # remove nans from data\n",
    "    data = data[~np.isnan(data)]\n",
    "    \n",
    "    # data histogram\n",
    "    n_histogram, _ = np.histogram(data, bins=100, density=True)\n",
    "    \n",
    "    # make our own data bins of length n\n",
    "    x = np.linspace(np.min(data), np.max(data), num=len(n_histogram))\n",
    "    \n",
    "    # find maximum n_peaks\n",
    "    peak_y_values = np.sort(n_histogram[argrelmax(n_histogram, order=2)])[-n_peaks:][::-1]\n",
    "    # find corresponding x values to the n_peaks\n",
    "    peak_x_values = x[np.where(np.isin(n_histogram,peak_y_values))]\n",
    "    \n",
    "    # demo plot\n",
    "    #plt.bar(x, n_histogram)\n",
    "    #plt.plot(peak_x_values, peak_y_values,'or')\n",
    "    \n",
    "    x_hist = x\n",
    "    y_hist = n_histogram\n",
    "    \n",
    "    return peak_x_values, peak_y_values, x_hist, y_hist"
   ]
  },
  {
   "cell_type": "code",
   "execution_count": 3,
   "metadata": {},
   "outputs": [],
   "source": [
    "def get_hist_trough(data):\n",
    "    # first, find peaks\n",
    "    x_peaks, y_peaks, _, _ = get_hist_peaks(data)\n",
    "    \n",
    "    # only look at data between the two peaks\n",
    "    data = data[(data > x_peaks[0]) & (data < x_peaks[1])]\n",
    "    \n",
    "    # data histogram\n",
    "    n_histogram, _ = np.histogram(data, bins=100, density=True)\n",
    "    \n",
    "    # make our own data bins of length n\n",
    "    x = np.linspace(np.min(data), np.max(data), num=len(n_histogram))\n",
    "    \n",
    "    # find minimum n_troughs\n",
    "    if len(np.sort(n_histogram[argrelmin(n_histogram, order=1)]))>1:\n",
    "        trough_y_values = np.sort(n_histogram[argrelmin(n_histogram, order=1)])[0]\n",
    "    else:\n",
    "        trough_y_values = np.sort(n_histogram[argrelmin(n_histogram, order=1)])\n",
    "    # find corresponding x values to the n_troughs\n",
    "    trough_x_values = x[np.where(np.isin(n_histogram,trough_y_values))]\n",
    "    \n",
    "    # demo plot\n",
    "    #plt.bar(x, n_histogram)\n",
    "    #plt.plot(trough_x_values, trough_y_values,'or')\n",
    "    \n",
    "    x_hist = x\n",
    "    y_hist = n_histogram\n",
    "    \n",
    "    return trough_x_values, trough_y_values, x_hist, y_hist"
   ]
  },
  {
   "cell_type": "markdown",
   "metadata": {},
   "source": [
    "Convert .mat to .geotiff"
   ]
  },
  {
   "cell_type": "code",
   "execution_count": 4,
   "metadata": {},
   "outputs": [],
   "source": [
    "#files = [r'C:\\Users\\steve\\OneDrive\\Documents\\School Stuff\\UW\\Mountain Hydrology Research Group\\IR_PLANE_PROCESSED\\mat\\SNOWEX2020_IR_PLANE_2020Feb08_mosaicked.mat',\n",
    "#         r'C:\\Users\\steve\\OneDrive\\Documents\\School Stuff\\UW\\Mountain Hydrology Research Group\\IR_PLANE_PROCESSED\\mat\\SNOWEX2020_EO_PLANE_2020Feb08_mosaicked.mat',\n",
    "#         # r'C:\\Users\\steve\\OneDrive\\Documents\\School Stuff\\UW\\Mountain Hydrology Research Group\\IR_PLANE_PROCESSED\\mat\\SNOWEX2020_IR_PLANE_2020Feb10_mosaicked.mat',\n",
    "#         # r'C:\\Users\\steve\\OneDrive\\Documents\\School Stuff\\UW\\Mountain Hydrology Research Group\\IR_PLANE_PROCESSED\\mat\\SNOWEX2020_IR_PLANE_2020Feb11_mosaicked.mat',\n",
    "#         # r'C:\\Users\\steve\\OneDrive\\Documents\\School Stuff\\UW\\Mountain Hydrology Research Group\\IR_PLANE_PROCESSED\\mat\\SNOWEX2020_IR_PLANE_2020Feb12_mosaicked.mat'\n",
    "#        ]\n",
    "#\n",
    "#ds_eo = ir_utils.eo_mat2dataset(files[1])\n",
    "#\n",
    "#ds_ir = ir_utils.ir_mat2dataset(files[0])\n",
    "#\n",
    "#for i in range(ds_ir.time.size):\n",
    "#    datetime_string = str(ds_ir.isel(time=i).time.values).replace(':','').split('.')[0]\n",
    "#    filepath = r\"C:\\Users\\steve\\OneDrive\\Documents\\School Stuff\\UW\\Mountain Hydrology Research Group\\IR_PLANE_PROCESSED\\tif\\\\\"\n",
    "#    new_filename = f'SNOWEX2020_IR_PLANE_2020Feb11_mosaicked_{datetime_string}.tif'\n",
    "#    ds_ir.isel(time=i).rio.to_raster(f\"{filepath}{new_filename}\")"
   ]
  },
  {
   "cell_type": "markdown",
   "metadata": {},
   "source": [
    "Find geotiff files we just created"
   ]
  },
  {
   "cell_type": "code",
   "execution_count": 19,
   "metadata": {},
   "outputs": [
    {
     "name": "stdout",
     "output_type": "stream",
     "text": [
      "['C:\\\\Users\\\\steve\\\\OneDrive\\\\Documents\\\\School Stuff\\\\UW\\\\Mountain Hydrology Research Group\\\\IR_PLANE_PROCESSED\\\\tif\\\\SNOWEX2020_IR_PLANE_2020Feb11_mosaicked_2020-02-11T170132.tif', 'C:\\\\Users\\\\steve\\\\OneDrive\\\\Documents\\\\School Stuff\\\\UW\\\\Mountain Hydrology Research Group\\\\IR_PLANE_PROCESSED\\\\tif\\\\SNOWEX2020_IR_PLANE_2020Feb11_mosaicked_2020-02-11T171501.tif', 'C:\\\\Users\\\\steve\\\\OneDrive\\\\Documents\\\\School Stuff\\\\UW\\\\Mountain Hydrology Research Group\\\\IR_PLANE_PROCESSED\\\\tif\\\\SNOWEX2020_IR_PLANE_2020Feb11_mosaicked_2020-02-11T172551.tif', 'C:\\\\Users\\\\steve\\\\OneDrive\\\\Documents\\\\School Stuff\\\\UW\\\\Mountain Hydrology Research Group\\\\IR_PLANE_PROCESSED\\\\tif\\\\SNOWEX2020_IR_PLANE_2020Feb11_mosaicked_2020-02-11T174011.tif', 'C:\\\\Users\\\\steve\\\\OneDrive\\\\Documents\\\\School Stuff\\\\UW\\\\Mountain Hydrology Research Group\\\\IR_PLANE_PROCESSED\\\\tif\\\\SNOWEX2020_IR_PLANE_2020Feb11_mosaicked_2020-02-11T175047.tif', 'C:\\\\Users\\\\steve\\\\OneDrive\\\\Documents\\\\School Stuff\\\\UW\\\\Mountain Hydrology Research Group\\\\IR_PLANE_PROCESSED\\\\tif\\\\SNOWEX2020_IR_PLANE_2020Feb11_mosaicked_2020-02-11T180605.tif', 'C:\\\\Users\\\\steve\\\\OneDrive\\\\Documents\\\\School Stuff\\\\UW\\\\Mountain Hydrology Research Group\\\\IR_PLANE_PROCESSED\\\\tif\\\\SNOWEX2020_IR_PLANE_2020Feb11_mosaicked_2020-02-11T182017.tif', 'C:\\\\Users\\\\steve\\\\OneDrive\\\\Documents\\\\School Stuff\\\\UW\\\\Mountain Hydrology Research Group\\\\IR_PLANE_PROCESSED\\\\tif\\\\SNOWEX2020_IR_PLANE_2020Feb11_mosaicked_2020-02-11T183548.tif', 'C:\\\\Users\\\\steve\\\\OneDrive\\\\Documents\\\\School Stuff\\\\UW\\\\Mountain Hydrology Research Group\\\\IR_PLANE_PROCESSED\\\\tif\\\\SNOWEX2020_IR_PLANE_2020Feb11_mosaicked_2020-02-11T184711.tif', 'C:\\\\Users\\\\steve\\\\OneDrive\\\\Documents\\\\School Stuff\\\\UW\\\\Mountain Hydrology Research Group\\\\IR_PLANE_PROCESSED\\\\tif\\\\SNOWEX2020_IR_PLANE_2020Feb11_mosaicked_2020-02-11T190148.tif', 'C:\\\\Users\\\\steve\\\\OneDrive\\\\Documents\\\\School Stuff\\\\UW\\\\Mountain Hydrology Research Group\\\\IR_PLANE_PROCESSED\\\\tif\\\\SNOWEX2020_IR_PLANE_2020Feb11_mosaicked_2020-02-11T191240.tif', 'C:\\\\Users\\\\steve\\\\OneDrive\\\\Documents\\\\School Stuff\\\\UW\\\\Mountain Hydrology Research Group\\\\IR_PLANE_PROCESSED\\\\tif\\\\SNOWEX2020_IR_PLANE_2020Feb11_mosaicked_2020-02-11T192641.tif']\n"
     ]
    }
   ],
   "source": [
    "#filepaths = glob.glob(r'C:\\Users\\steve\\OneDrive\\Documents\\School Stuff\\UW\\Mountain Hydrology Research Group\\IR_PLANE_PROCESSED\\tif\\*_2020Feb08_*.tif')\n",
    "filepaths = glob.glob(r'C:\\Users\\steve\\OneDrive\\Documents\\School Stuff\\UW\\Mountain Hydrology Research Group\\IR_PLANE_PROCESSED\\tif\\*_2020Feb11_*.tif')\n",
    "print(filepaths)"
   ]
  },
  {
   "cell_type": "markdown",
   "metadata": {},
   "source": [
    "Get shapefile"
   ]
  },
  {
   "cell_type": "code",
   "execution_count": 20,
   "metadata": {},
   "outputs": [],
   "source": [
    "#shapefile_filepath = r'C:\\Users\\steve\\OneDrive\\Documents\\School Stuff\\UW\\Mountain Hydrology Research Group\\MountainGOES\\Mountain GOES Paper\\Paper 2 - satellite vs ground\\Paper 2a - snowex data\\data\\pixels_GOES-16_ABI.geojson'\n",
    "#shapefile_filepath = r'C:\\Users\\steve\\OneDrive\\Documents\\School Stuff\\UW\\Mountain Hydrology Research Group\\MountainGOES\\Mountain GOES Paper\\Paper 2 - satellite vs ground\\Paper 2a - snowex data\\data\\pixels_GOES-17_ABI.geojson'\n",
    "\n",
    "\n",
    "shapefile_filepath = r'C:\\Users\\steve\\OneDrive\\Documents\\School Stuff\\UW\\Mountain Hydrology Research Group\\MountainGOES\\Mountain GOES Paper\\Paper 2 - satellite vs ground\\Paper 2a - snowex data\\data\\pixels_GOES-16_ABI_500mBuffer.geojson'\n",
    "#shapefile_filepath = r'C:\\Users\\steve\\OneDrive\\Documents\\School Stuff\\UW\\Mountain Hydrology Research Group\\MountainGOES\\Mountain GOES Paper\\Paper 2 - satellite vs ground\\Paper 2a - snowex data\\data\\pixels_GOES-17_ABI_500mBuffer.geojson'"
   ]
  },
  {
   "cell_type": "markdown",
   "metadata": {},
   "source": [
    "Iterate through all images, use shapefile to compute zonal stats"
   ]
  },
  {
   "cell_type": "code",
   "execution_count": 21,
   "metadata": {},
   "outputs": [],
   "source": [
    "make_figure = True"
   ]
  },
  {
   "cell_type": "code",
   "execution_count": 22,
   "metadata": {
    "scrolled": false
   },
   "outputs": [
    {
     "name": "stdout",
     "output_type": "stream",
     "text": [
      "No valid pixels within shapefile bounds, cannot compute stats, returning nans\n",
      "No valid pixels within shapefile bounds, cannot compute stats, returning nans\n",
      "No valid pixels within shapefile bounds, cannot compute stats, returning nans\n",
      "No valid pixels within shapefile bounds, cannot compute stats, returning nans\n",
      "No valid pixels within shapefile bounds, cannot compute stats, returning nans\n",
      "No valid pixels within shapefile bounds, cannot compute stats, returning nans\n",
      "No valid pixels within shapefile bounds, cannot compute stats, returning nans\n",
      "No valid pixels within shapefile bounds, cannot compute stats, returning nans\n",
      "No valid pixels within shapefile bounds, cannot compute stats, returning nans\n",
      "No valid pixels within shapefile bounds, cannot compute stats, returning nans\n",
      "No valid pixels within shapefile bounds, cannot compute stats, returning nans\n",
      "No valid pixels within shapefile bounds, cannot compute stats, returning nans\n",
      "No valid pixels within shapefile bounds, cannot compute stats, returning nans\n",
      "No valid pixels within shapefile bounds, cannot compute stats, returning nans\n",
      "No valid pixels within shapefile bounds, cannot compute stats, returning nans\n",
      "No valid pixels within shapefile bounds, cannot compute stats, returning nans\n",
      "No valid pixels within shapefile bounds, cannot compute stats, returning nans\n"
     ]
    }
   ],
   "source": [
    "means_list =  []\n",
    "max_list =  []\n",
    "min_list =  []\n",
    "std_list =  []\n",
    "n_list = []\n",
    "\n",
    "pixel_name_list =  []\n",
    "ir_filepath_list = []\n",
    "figure_filename_list = []\n",
    "timestampUTC_list = []\n",
    "\n",
    "#Tsnow_airborneIR_peak = []\n",
    "#Ttree_airborneIR_peak = []\n",
    "#Tsnow_airborneIR_median = []\n",
    "#Ttree_airborneIR_median = []\n",
    "#Tsnow_airborneIR_mean = []\n",
    "#Ttree_airborneIR_mean = []\n",
    "#Tsnow_airborneIR_min = []\n",
    "#Ttree_airborneIR_min = []\n",
    "#Tsnow_airborneIR_max = []\n",
    "#Ttree_airborneIR_max = []\n",
    "#Tsnow_airborneIR_std = []\n",
    "#Ttree_airborneIR_std = []\n",
    "\n",
    "for ir_filepath in filepaths:\n",
    "    \n",
    "    # get timestamp from filename\n",
    "    datetimelist = ir_filepath.split('\\\\')[-1].split('_')[-1].split('.')[0].replace(\"T\",\"-\").split(\"-\")\n",
    "    y = int(datetimelist[0])\n",
    "    mo = int(datetimelist[1])\n",
    "    d = int(datetimelist[2])\n",
    "    h = int(datetimelist[3][:2])\n",
    "    m = int(datetimelist[3][2:4])\n",
    "    s = int(datetimelist[3][4:])\n",
    "    timestampUTC = pd.Timestamp(y, mo, d, h, m, s)\n",
    "    \n",
    "    \n",
    "    for shapefile_number in range(6):\n",
    "        timestampUTC_list.append(timestampUTC)\n",
    "        zone_shape = gpd.read_file(shapefile_filepath)\n",
    "        pixel_name = zone_shape.name[shapefile_number]\n",
    "        pixel_name_list.append(pixel_name)\n",
    "        ir_filepath_list.append(ir_filepath)\n",
    "        \n",
    "        try:\n",
    "            tb_mean, tb_max, tb_min, tb_std, n, masked_ir_tb = ir_utils.ir_zonal_stats(ir_filepath, shapefile_filepath, shapefile_number, return_masked_array=True)\n",
    "        except TypeError as e:\n",
    "            print('TypeError')\n",
    "            print(e)\n",
    "            None\n",
    "        \n",
    "        #print('Brightness Temperature:')\n",
    "        #print('Mean: {}'.format(np.round(tb_mean,2)))\n",
    "        #print('Maximum: {}'.format(np.round(tb_max,2)))\n",
    "        #print('Minimum: {}'.format(np.round(tb_min,2)))\n",
    "        #print('Standard Deviation: {}'.format(np.round(tb_std,2)))\n",
    "        \n",
    "        means_list.append(tb_mean)\n",
    "        max_list.append(tb_max)\n",
    "        min_list.append(tb_min)\n",
    "        std_list.append(tb_std)\n",
    "        n_list.append(n)\n",
    "        \n",
    "        if type(masked_ir_tb) != np.float:\n",
    "            if make_figure == True:\n",
    "                fig, [ax_img, ax_hist] = plt.subplots(nrows=1,ncols=2,figsize=(10,4), tight_layout=True,\n",
    "                                                  gridspec_kw={'width_ratios': [2, 1]})\n",
    "\n",
    "                # Visible image\n",
    "                #ax_img.imshow(masked_vis[0], origin='lower')\n",
    "                #ax_img.set_title(f'{shapefile_number} Airborne Visible Image');\n",
    "                #ax_img.axis('off');\n",
    "\n",
    "                # IR image\n",
    "                ax_img.imshow(masked_ir_tb[0], cmap='magma', origin='lower', vmin=-25, vmax=0)\n",
    "                ax_img.set_title(f'{pixel_name}: Airborne IR Surface Temperatures ($\\degree C$)\\n{timestampUTC}');\n",
    "                ax_img.axis('off');\n",
    "\n",
    "                # histogram\n",
    "                data = masked_ir_tb[0]\n",
    "                x_peaks, y_peaks, x_hist, y_hist = get_hist_peaks(data)\n",
    "                #x_trough, _, _, _ = get_hist_trough(data)\n",
    "                #x_hist_snow = x_hist[x_hist < x_trough[0]]\n",
    "                #y_hist_snow = y_hist[x_hist < x_trough[0]]\n",
    "                #x_hist_tree = x_hist[x_hist >= x_trough[0]]\n",
    "                #y_hist_tree = y_hist[x_hist >= x_trough[0]]\n",
    "                #Tsnow_airborneIR_peak.append(x_peaks[0])\n",
    "                #Ttree_airborneIR_peak.append(x_peaks[1])\n",
    "                #Tsnow_airborneIR_median.append(np.median(data[data < x_trough[0]]))\n",
    "                #Ttree_airborneIR_median.append(np.median(data[data >= x_trough[0]]))\n",
    "                #Tsnow_airborneIR_mean.append(np.mean(data[data < x_trough[0]]))\n",
    "                #Ttree_airborneIR_mean.append(np.mean(data[data >= x_trough[0]]))\n",
    "                #Tsnow_airborneIR_min.append(np.min(data[data < x_trough[0]]))\n",
    "                #Ttree_airborneIR_min.append(np.min(data[data >= x_trough[0]]))\n",
    "                #Tsnow_airborneIR_max.append(np.max(data[data < x_trough[0]]))\n",
    "                #Ttree_airborneIR_max.append(np.max(data[data >= x_trough[0]]))\n",
    "                #Tsnow_airborneIR_std.append(np.std(data[data < x_trough[0]]))\n",
    "                #Ttree_airborneIR_std.append(np.std(data[data >= x_trough[0]]))\n",
    "\n",
    "\n",
    "                ax_hist.bar(x_hist, y_hist, color='k')\n",
    "                #ax_hist.bar(x_hist_snow, y_hist_snow, color='lightblue')\n",
    "                #ax_hist.bar(x_hist_tree, y_hist_tree, color='lightgreen')\n",
    "                #ax_hist.axvline(np.median(data[data < x_trough[0]]),color='b',linestyle='--')\n",
    "                #ax_hist.axvline(np.median(data[data >= x_trough[0]]),color='g',linestyle='--')\n",
    "                #ax_hist.axvline(np.mean(data[data < x_trough[0]]),color='b',linestyle=':')\n",
    "                #ax_hist.axvline(np.mean(data[data >= x_trough[0]]),color='g',linestyle=':')\n",
    "                #ax_hist.plot(x_peaks[0], y_peaks[0],'ob')\n",
    "                #ax_hist.plot(x_peaks[1], y_peaks[1],'^g')\n",
    "                ax_hist.set_xlim(-25, 2)\n",
    "                ax_hist.set_ylim(0,1)\n",
    "                ax_hist.set_ylabel('Fraction of Area')\n",
    "                ax_hist.set_xlabel('Temperature [C]')\n",
    "                ax_hist.set_title('Histogram of Airborne IR Surface Temperatures')\n",
    "                filename_base = ir_filepath.split('\\\\')[-1].split('.')[0]\n",
    "                filename = f'g16_{pixel_name}_{filename_base}'\n",
    "                figure_filename_list.append(filename)\n",
    "                plt.savefig(f'{filename}_500mBuffer.jpg')\n",
    "                plt.close()\n",
    "            else:\n",
    "                figure_filename_list.append('none')\n",
    "        else:\n",
    "            figure_filename_list.append('none')\n",
    "        \n",
    "        \n",
    "        \n"
   ]
  },
  {
   "cell_type": "markdown",
   "metadata": {},
   "source": [
    "Save zonal stats results to csv file"
   ]
  },
  {
   "cell_type": "code",
   "execution_count": 23,
   "metadata": {},
   "outputs": [],
   "source": [
    "df = pd.DataFrame({ 'timestampUTC': timestampUTC_list,\n",
    "                   'n': n_list,\n",
    "                   'tb_mean': means_list, \n",
    "                   'tb_max': max_list, \n",
    "                   'tb_min': min_list, \n",
    "                   'tb_std': std_list, \n",
    "                   'ir_filepath': ir_filepath_list, \n",
    "                   'pixel_name': pixel_name_list, \n",
    "                   'figure_filename': figure_filename_list})\n",
    "                    #\"Tsnow_airborneIR_peak\" : Tsnow_airborneIR_peak  ,\n",
    "                    #\"Ttree_airborneIR_peak\" :  Ttree_airborneIR_peak  ,\n",
    "                    #\"Tsnow_airborneIR_median\" :  Tsnow_airborneIR_median ,\n",
    "                    #\"Ttree_airborneIR_median\" :  Ttree_airborneIR_median ,\n",
    "                    #\"Tsnow_airborneIR_mean\" :  Tsnow_airborneIR_mean  ,\n",
    "                    #\"Ttree_airborneIR_mean\" :  Ttree_airborneIR_mean  ,\n",
    "                    #\"Tsnow_airborneIR_min\" :   Tsnow_airborneIR_min  ,\n",
    "                    #\"Ttree_airborneIR_min\" :   Ttree_airborneIR_min  ,\n",
    "                    #\"Tsnow_airborneIR_max\" :   Tsnow_airborneIR_max  ,\n",
    "                    #\"Ttree_airborneIR_max\" :   Ttree_airborneIR_max  ,\n",
    "                    #\"Tsnow_airborneIR_std\" :   Tsnow_airborneIR_std  ,\n",
    "                    #\"Ttree_airborneIR_std\" :   Ttree_airborneIR_std  })\n",
    "df.to_csv(f'g16_{filename_base}_500mBuffer.csv')"
   ]
  },
  {
   "cell_type": "code",
   "execution_count": null,
   "metadata": {},
   "outputs": [],
   "source": []
  },
  {
   "cell_type": "code",
   "execution_count": null,
   "metadata": {},
   "outputs": [],
   "source": []
  },
  {
   "cell_type": "markdown",
   "metadata": {},
   "source": [
    "---"
   ]
  },
  {
   "cell_type": "code",
   "execution_count": null,
   "metadata": {},
   "outputs": [],
   "source": []
  },
  {
   "cell_type": "code",
   "execution_count": null,
   "metadata": {},
   "outputs": [],
   "source": []
  }
 ],
 "metadata": {
  "kernelspec": {
   "display_name": "feb8env",
   "language": "python",
   "name": "feb8env"
  },
  "language_info": {
   "codemirror_mode": {
    "name": "ipython",
    "version": 3
   },
   "file_extension": ".py",
   "mimetype": "text/x-python",
   "name": "python",
   "nbconvert_exporter": "python",
   "pygments_lexer": "ipython3",
   "version": "3.9.12"
  }
 },
 "nbformat": 4,
 "nbformat_minor": 2
}
